{
 "cells": [
  {
   "cell_type": "markdown",
   "id": "4f0d2fc1-e715-48e6-8233-b428202f0702",
   "metadata": {},
   "source": [
    "# 1. Imports"
   ]
  },
  {
   "cell_type": "code",
   "execution_count": null,
   "id": "cd042037-da4c-49cf-9046-e62df7838e87",
   "metadata": {},
   "outputs": [],
   "source": [
    "from confluent_kafka.admin import AdminClient\n",
    "import logging\n",
    "import json\n",
    "import time\n",
    "from confluent_kafka import Producer\n",
    "import typing\n",
    "import logging\n",
    "\n",
    "logging.basicConfig(level=logging.INFO)\n",
    "logger = logging.getLogger(\"producer\")\n",
    "\n",
    "config = json.load(open(\"config.json\"))\n",
    "print(json.dumps(config, indent=2))"
   ]
  },
  {
   "cell_type": "markdown",
   "id": "2ba5610f-347c-4d10-a250-2a91cb04a0d5",
   "metadata": {},
   "source": [
    "# 2. Data Generator"
   ]
  },
  {
   "cell_type": "code",
   "execution_count": null,
   "id": "4090daf3-306b-4162-a999-6fcf1560ba49",
   "metadata": {},
   "outputs": [],
   "source": [
    "def data_generator() -> str:\n",
    "    # Read data from json (data.json)\n",
    "    # Push 1 record at a time - Make use of python 'yield' operator\n",
    "    ...\n",
    "\n",
    "\n",
    "# Push data to kafka\n",
    "data = data_generator()"
   ]
  },
  {
   "cell_type": "markdown",
   "id": "619e7021-9e97-4eda-9a2f-234372563da9",
   "metadata": {},
   "source": [
    "# 3. Build Kafka Producer class"
   ]
  },
  {
   "cell_type": "code",
   "execution_count": null,
   "id": "22f80b66-2d79-427f-9056-3ec533103b74",
   "metadata": {},
   "outputs": [],
   "source": [
    "broker_conf = {\n",
    "    'bootstrap.servers': config[\"global\"][\"kafka_bootstrap_servers\"],\n",
    "}\n",
    "\n",
    "producer_conf = {**broker_conf}\n",
    "\n",
    "class KafkaProducer(object):\n",
    "    def __init__(self, broker_conf, debug=False):\n",
    "        self.broker_conf = broker_conf\n",
    "        self.producer = Producer(self.broker_conf)\n",
    "        self.debug = debug\n",
    "\n",
    "    def delivery_report(self, err, msg):\n",
    "        \"\"\" Called once for each message produced to indicate delivery result.\n",
    "            Triggered by poll() or flush(). \"\"\"\n",
    "        if err is not None:\n",
    "            logger.error('Message delivery failed: {}'.format(err))\n",
    "        else:\n",
    "            # if self.debug:\n",
    "            logger.info('Message delivered to topic: {} [parition={}]'.format(msg.topic(), msg.partition()))\n",
    "\n",
    "    def push(self, data: typing.List[str], topic: str, delay_in_secs: int = 0):\n",
    "        start_time = time.time()\n",
    "        num_records = 0\n",
    "\n",
    "        ...\n",
    "\n",
    "        end_time = time.time()\n",
    "        completion_time = end_time-start_time\n",
    "        logger.info(\n",
    "            f\"Pushed {num_records} records with {delay_in_secs} secs delay. Task completed in {completion_time:.2f} secs\")\n",
    "        return num_records, completion_time"
   ]
  },
  {
   "cell_type": "markdown",
   "id": "5f37516e-48f5-45a0-b5ee-0a4701100076",
   "metadata": {},
   "source": [
    "# 4. Push data to kafka"
   ]
  },
  {
   "cell_type": "code",
   "execution_count": null,
   "id": "c1d305dc-beeb-4b4d-91f4-b0ae54655602",
   "metadata": {},
   "outputs": [],
   "source": [
    "kafka_produce = KafkaProducer(broker_conf=broker_conf, debug=True)\n",
    "num_records, _ = kafka_produce.push(data=data,  topic=config[\"global\"][\"kafka_topic\"], delay_in_secs=0)"
   ]
  }
 ],
 "metadata": {
  "kernelspec": {
   "display_name": "Python 3.8.6 64-bit ('3.8.6')",
   "language": "python",
   "name": "python3"
  },
  "language_info": {
   "codemirror_mode": {
    "name": "ipython",
    "version": 3
   },
   "file_extension": ".py",
   "mimetype": "text/x-python",
   "name": "python",
   "nbconvert_exporter": "python",
   "pygments_lexer": "ipython3",
   "version": "3.8.6"
  },
  "vscode": {
   "interpreter": {
    "hash": "bdff9bcfa0ccc71486e4dde6ff189013f13e2d488bfbfec38844d4916b87ef74"
   }
  }
 },
 "nbformat": 4,
 "nbformat_minor": 5
}
